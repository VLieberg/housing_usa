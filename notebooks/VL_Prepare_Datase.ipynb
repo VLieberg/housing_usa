{
 "cells": [
  {
   "cell_type": "markdown",
   "id": "d0cecc05",
   "metadata": {},
   "source": [
    "**Houses USA**"
   ]
  },
  {
   "cell_type": "markdown",
   "id": "a714e6b6",
   "metadata": {},
   "source": [
    "Imports"
   ]
  },
  {
   "cell_type": "code",
   "execution_count": 1,
   "id": "bba9569a",
   "metadata": {},
   "outputs": [],
   "source": [
    "import matplotlib.pyplot as plt\n",
    "%matplotlib inline\n",
    "import numpy as np\n",
    "import pandas as pd\n",
    "import requests\n",
    "import seaborn as sns"
   ]
  },
  {
   "cell_type": "code",
   "execution_count": 2,
   "id": "c8fe0d78",
   "metadata": {},
   "outputs": [
    {
     "name": "stdout",
     "output_type": "stream",
     "text": [
      "/Users/vanessalieberg/code/Megeve2022/housing_usa/notebooks\r\n"
     ]
    }
   ],
   "source": [
    "!pwd"
   ]
  },
  {
   "cell_type": "code",
   "execution_count": 3,
   "id": "05dd1234",
   "metadata": {},
   "outputs": [],
   "source": [
    "df = pd.read_csv(\"../raw_data/kc_house_data 2.csv\", parse_dates=['date'])"
   ]
  },
  {
   "cell_type": "markdown",
   "id": "24131fdb",
   "metadata": {},
   "source": [
    "# Dataset Overview"
   ]
  },
  {
   "cell_type": "code",
   "execution_count": 4,
   "id": "f2da699d",
   "metadata": {},
   "outputs": [
    {
     "data": {
      "text/html": [
       "<div>\n",
       "<style scoped>\n",
       "    .dataframe tbody tr th:only-of-type {\n",
       "        vertical-align: middle;\n",
       "    }\n",
       "\n",
       "    .dataframe tbody tr th {\n",
       "        vertical-align: top;\n",
       "    }\n",
       "\n",
       "    .dataframe thead th {\n",
       "        text-align: right;\n",
       "    }\n",
       "</style>\n",
       "<table border=\"1\" class=\"dataframe\">\n",
       "  <thead>\n",
       "    <tr style=\"text-align: right;\">\n",
       "      <th></th>\n",
       "      <th>id</th>\n",
       "      <th>date</th>\n",
       "      <th>price</th>\n",
       "      <th>bedrooms</th>\n",
       "      <th>bathrooms</th>\n",
       "      <th>sqft_living</th>\n",
       "      <th>sqft_lot</th>\n",
       "      <th>floors</th>\n",
       "      <th>waterfront</th>\n",
       "      <th>view</th>\n",
       "      <th>...</th>\n",
       "      <th>grade</th>\n",
       "      <th>sqft_above</th>\n",
       "      <th>sqft_basement</th>\n",
       "      <th>yr_built</th>\n",
       "      <th>yr_renovated</th>\n",
       "      <th>zipcode</th>\n",
       "      <th>lat</th>\n",
       "      <th>long</th>\n",
       "      <th>sqft_living15</th>\n",
       "      <th>sqft_lot15</th>\n",
       "    </tr>\n",
       "  </thead>\n",
       "  <tbody>\n",
       "    <tr>\n",
       "      <th>0</th>\n",
       "      <td>7129300520</td>\n",
       "      <td>2014-10-13</td>\n",
       "      <td>221900.0</td>\n",
       "      <td>3</td>\n",
       "      <td>1.00</td>\n",
       "      <td>1180</td>\n",
       "      <td>5650</td>\n",
       "      <td>1.0</td>\n",
       "      <td>0</td>\n",
       "      <td>0</td>\n",
       "      <td>...</td>\n",
       "      <td>7</td>\n",
       "      <td>1180</td>\n",
       "      <td>0</td>\n",
       "      <td>1955</td>\n",
       "      <td>0</td>\n",
       "      <td>98178</td>\n",
       "      <td>47.5112</td>\n",
       "      <td>-122.257</td>\n",
       "      <td>1340</td>\n",
       "      <td>5650</td>\n",
       "    </tr>\n",
       "    <tr>\n",
       "      <th>1</th>\n",
       "      <td>6414100192</td>\n",
       "      <td>2014-12-09</td>\n",
       "      <td>538000.0</td>\n",
       "      <td>3</td>\n",
       "      <td>2.25</td>\n",
       "      <td>2570</td>\n",
       "      <td>7242</td>\n",
       "      <td>2.0</td>\n",
       "      <td>0</td>\n",
       "      <td>0</td>\n",
       "      <td>...</td>\n",
       "      <td>7</td>\n",
       "      <td>2170</td>\n",
       "      <td>400</td>\n",
       "      <td>1951</td>\n",
       "      <td>1991</td>\n",
       "      <td>98125</td>\n",
       "      <td>47.7210</td>\n",
       "      <td>-122.319</td>\n",
       "      <td>1690</td>\n",
       "      <td>7639</td>\n",
       "    </tr>\n",
       "    <tr>\n",
       "      <th>2</th>\n",
       "      <td>5631500400</td>\n",
       "      <td>2015-02-25</td>\n",
       "      <td>180000.0</td>\n",
       "      <td>2</td>\n",
       "      <td>1.00</td>\n",
       "      <td>770</td>\n",
       "      <td>10000</td>\n",
       "      <td>1.0</td>\n",
       "      <td>0</td>\n",
       "      <td>0</td>\n",
       "      <td>...</td>\n",
       "      <td>6</td>\n",
       "      <td>770</td>\n",
       "      <td>0</td>\n",
       "      <td>1933</td>\n",
       "      <td>0</td>\n",
       "      <td>98028</td>\n",
       "      <td>47.7379</td>\n",
       "      <td>-122.233</td>\n",
       "      <td>2720</td>\n",
       "      <td>8062</td>\n",
       "    </tr>\n",
       "    <tr>\n",
       "      <th>3</th>\n",
       "      <td>2487200875</td>\n",
       "      <td>2014-12-09</td>\n",
       "      <td>604000.0</td>\n",
       "      <td>4</td>\n",
       "      <td>3.00</td>\n",
       "      <td>1960</td>\n",
       "      <td>5000</td>\n",
       "      <td>1.0</td>\n",
       "      <td>0</td>\n",
       "      <td>0</td>\n",
       "      <td>...</td>\n",
       "      <td>7</td>\n",
       "      <td>1050</td>\n",
       "      <td>910</td>\n",
       "      <td>1965</td>\n",
       "      <td>0</td>\n",
       "      <td>98136</td>\n",
       "      <td>47.5208</td>\n",
       "      <td>-122.393</td>\n",
       "      <td>1360</td>\n",
       "      <td>5000</td>\n",
       "    </tr>\n",
       "    <tr>\n",
       "      <th>4</th>\n",
       "      <td>1954400510</td>\n",
       "      <td>2015-02-18</td>\n",
       "      <td>510000.0</td>\n",
       "      <td>3</td>\n",
       "      <td>2.00</td>\n",
       "      <td>1680</td>\n",
       "      <td>8080</td>\n",
       "      <td>1.0</td>\n",
       "      <td>0</td>\n",
       "      <td>0</td>\n",
       "      <td>...</td>\n",
       "      <td>8</td>\n",
       "      <td>1680</td>\n",
       "      <td>0</td>\n",
       "      <td>1987</td>\n",
       "      <td>0</td>\n",
       "      <td>98074</td>\n",
       "      <td>47.6168</td>\n",
       "      <td>-122.045</td>\n",
       "      <td>1800</td>\n",
       "      <td>7503</td>\n",
       "    </tr>\n",
       "  </tbody>\n",
       "</table>\n",
       "<p>5 rows × 21 columns</p>\n",
       "</div>"
      ],
      "text/plain": [
       "           id       date     price  bedrooms  bathrooms  sqft_living  \\\n",
       "0  7129300520 2014-10-13  221900.0         3       1.00         1180   \n",
       "1  6414100192 2014-12-09  538000.0         3       2.25         2570   \n",
       "2  5631500400 2015-02-25  180000.0         2       1.00          770   \n",
       "3  2487200875 2014-12-09  604000.0         4       3.00         1960   \n",
       "4  1954400510 2015-02-18  510000.0         3       2.00         1680   \n",
       "\n",
       "   sqft_lot  floors  waterfront  view  ...  grade  sqft_above  sqft_basement  \\\n",
       "0      5650     1.0           0     0  ...      7        1180              0   \n",
       "1      7242     2.0           0     0  ...      7        2170            400   \n",
       "2     10000     1.0           0     0  ...      6         770              0   \n",
       "3      5000     1.0           0     0  ...      7        1050            910   \n",
       "4      8080     1.0           0     0  ...      8        1680              0   \n",
       "\n",
       "   yr_built  yr_renovated  zipcode      lat     long  sqft_living15  \\\n",
       "0      1955             0    98178  47.5112 -122.257           1340   \n",
       "1      1951          1991    98125  47.7210 -122.319           1690   \n",
       "2      1933             0    98028  47.7379 -122.233           2720   \n",
       "3      1965             0    98136  47.5208 -122.393           1360   \n",
       "4      1987             0    98074  47.6168 -122.045           1800   \n",
       "\n",
       "   sqft_lot15  \n",
       "0        5650  \n",
       "1        7639  \n",
       "2        8062  \n",
       "3        5000  \n",
       "4        7503  \n",
       "\n",
       "[5 rows x 21 columns]"
      ]
     },
     "execution_count": 4,
     "metadata": {},
     "output_type": "execute_result"
    }
   ],
   "source": [
    "df.head()"
   ]
  },
  {
   "cell_type": "code",
   "execution_count": 5,
   "id": "40cfa962",
   "metadata": {},
   "outputs": [
    {
     "name": "stdout",
     "output_type": "stream",
     "text": [
      "<class 'pandas.core.frame.DataFrame'>\n",
      "RangeIndex: 21613 entries, 0 to 21612\n",
      "Data columns (total 21 columns):\n",
      " #   Column         Non-Null Count  Dtype         \n",
      "---  ------         --------------  -----         \n",
      " 0   id             21613 non-null  int64         \n",
      " 1   date           21613 non-null  datetime64[ns]\n",
      " 2   price          21613 non-null  float64       \n",
      " 3   bedrooms       21613 non-null  int64         \n",
      " 4   bathrooms      21613 non-null  float64       \n",
      " 5   sqft_living    21613 non-null  int64         \n",
      " 6   sqft_lot       21613 non-null  int64         \n",
      " 7   floors         21613 non-null  float64       \n",
      " 8   waterfront     21613 non-null  int64         \n",
      " 9   view           21613 non-null  int64         \n",
      " 10  condition      21613 non-null  int64         \n",
      " 11  grade          21613 non-null  int64         \n",
      " 12  sqft_above     21613 non-null  int64         \n",
      " 13  sqft_basement  21613 non-null  int64         \n",
      " 14  yr_built       21613 non-null  int64         \n",
      " 15  yr_renovated   21613 non-null  int64         \n",
      " 16  zipcode        21613 non-null  int64         \n",
      " 17  lat            21613 non-null  float64       \n",
      " 18  long           21613 non-null  float64       \n",
      " 19  sqft_living15  21613 non-null  int64         \n",
      " 20  sqft_lot15     21613 non-null  int64         \n",
      "dtypes: datetime64[ns](1), float64(5), int64(15)\n",
      "memory usage: 3.5 MB\n"
     ]
    }
   ],
   "source": [
    "df.info()"
   ]
  },
  {
   "cell_type": "markdown",
   "id": "2b8068b2",
   "metadata": {},
   "source": [
    "## Dataset cleaning"
   ]
  },
  {
   "cell_type": "code",
   "execution_count": 6,
   "id": "7003d99d",
   "metadata": {},
   "outputs": [
    {
     "data": {
      "text/plain": [
       "0"
      ]
     },
     "execution_count": 6,
     "metadata": {},
     "output_type": "execute_result"
    }
   ],
   "source": [
    "df.duplicated().sum()"
   ]
  },
  {
   "cell_type": "code",
   "execution_count": 7,
   "id": "52f5a479",
   "metadata": {},
   "outputs": [
    {
     "data": {
      "text/plain": [
       "177"
      ]
     },
     "execution_count": 7,
     "metadata": {},
     "output_type": "execute_result"
    }
   ],
   "source": [
    "df['id'].duplicated().sum()"
   ]
  },
  {
   "cell_type": "code",
   "execution_count": 8,
   "id": "663cd507",
   "metadata": {},
   "outputs": [
    {
     "data": {
      "text/plain": [
       "id               0\n",
       "grade            0\n",
       "sqft_living15    0\n",
       "long             0\n",
       "lat              0\n",
       "zipcode          0\n",
       "yr_renovated     0\n",
       "yr_built         0\n",
       "sqft_basement    0\n",
       "sqft_above       0\n",
       "condition        0\n",
       "date             0\n",
       "view             0\n",
       "waterfront       0\n",
       "floors           0\n",
       "sqft_lot         0\n",
       "sqft_living      0\n",
       "bathrooms        0\n",
       "bedrooms         0\n",
       "price            0\n",
       "sqft_lot15       0\n",
       "dtype: int64"
      ]
     },
     "execution_count": 8,
     "metadata": {},
     "output_type": "execute_result"
    }
   ],
   "source": [
    "missing_col = df.isnull().sum().sort_values(ascending=False)\n",
    "missing_col"
   ]
  },
  {
   "cell_type": "code",
   "execution_count": 9,
   "id": "4ad4abe1",
   "metadata": {},
   "outputs": [
    {
     "data": {
      "text/plain": [
       "id               0\n",
       "date             0\n",
       "price            0\n",
       "bedrooms         0\n",
       "bathrooms        0\n",
       "sqft_living      0\n",
       "sqft_lot         0\n",
       "floors           0\n",
       "waterfront       0\n",
       "view             0\n",
       "condition        0\n",
       "grade            0\n",
       "sqft_above       0\n",
       "sqft_basement    0\n",
       "yr_built         0\n",
       "yr_renovated     0\n",
       "zipcode          0\n",
       "lat              0\n",
       "long             0\n",
       "sqft_living15    0\n",
       "sqft_lot15       0\n",
       "dtype: int64"
      ]
     },
     "execution_count": 9,
     "metadata": {},
     "output_type": "execute_result"
    }
   ],
   "source": [
    "# Analysis of nan\n",
    "df.isna().sum()"
   ]
  },
  {
   "cell_type": "markdown",
   "id": "d93fa764",
   "metadata": {},
   "source": [
    "## Dataset pre-analysis"
   ]
  },
  {
   "cell_type": "code",
   "execution_count": 10,
   "id": "819730da",
   "metadata": {},
   "outputs": [
    {
     "data": {
      "text/plain": [
       "3    14031\n",
       "4     5679\n",
       "5     1701\n",
       "2      172\n",
       "1       30\n",
       "Name: condition, dtype: int64"
      ]
     },
     "execution_count": 10,
     "metadata": {},
     "output_type": "execute_result"
    }
   ],
   "source": [
    "df.condition.value_counts()"
   ]
  },
  {
   "cell_type": "code",
   "execution_count": 11,
   "id": "4910c13c",
   "metadata": {},
   "outputs": [
    {
     "data": {
      "text/plain": [
       "<matplotlib.collections.PathCollection at 0x14a6baac0>"
      ]
     },
     "execution_count": 11,
     "metadata": {},
     "output_type": "execute_result"
    },
    {
     "data": {
      "image/png": "[encoded data removed]",
      "text/plain": [
       "<Figure size 432x288 with 1 Axes>"
      ]
     },
     "metadata": {
      "needs_background": "light"
     },
     "output_type": "display_data"
    }
   ],
   "source": [
    "plt.scatter(x=df['condition'], y=df['price'])"
   ]
  },
  {
   "cell_type": "code",
   "execution_count": 12,
   "id": "bb686521",
   "metadata": {},
   "outputs": [
    {
     "data": {
      "text/plain": [
       "0    19489\n",
       "2      963\n",
       "3      510\n",
       "1      332\n",
       "4      319\n",
       "Name: view, dtype: int64"
      ]
     },
     "execution_count": 12,
     "metadata": {},
     "output_type": "execute_result"
    }
   ],
   "source": [
    "df.view.value_counts()"
   ]
  },
  {
   "cell_type": "code",
   "execution_count": 57,
   "id": "1f778aed",
   "metadata": {},
   "outputs": [
    {
     "data": {
      "image/png": "[encoded data removed]",
      "text/plain": [
       "<Figure size 864x864 with 2 Axes>"
      ]
     },
     "metadata": {
      "needs_background": "light"
     },
     "output_type": "display_data"
    }
   ],
   "source": [
    "# corr = df.corr() -- Pearson Correlation\n",
    "\n",
    "fig, ax = plt.subplots(figsize = (12, 12))\n",
    "# Heatmap\n",
    "sns.heatmap(df.corr(), cmap = \"YlGnBu\", annot = True, fmt = \".1f\", annot_kws = {\"fontsize\": 9},\n",
    "            vmin = -1, vmax = 1, square = True, linewidths = 0.01, linecolor = \"white\", cbar = True)\n",
    "\n",
    "sns.despine(top = True, right = True, left = True, bottom = True)"
   ]
  },
  {
   "cell_type": "code",
   "execution_count": 15,
   "id": "560a657d",
   "metadata": {},
   "outputs": [
    {
     "data": {
      "text/plain": [
       "price            1.000000\n",
       "sqft_living      0.702035\n",
       "grade            0.667434\n",
       "sqft_above       0.605567\n",
       "sqft_living15    0.585379\n",
       "bathrooms        0.525138\n",
       "view             0.397293\n",
       "sqft_basement    0.323816\n",
       "bedrooms         0.308350\n",
       "lat              0.307003\n",
       "waterfront       0.266369\n",
       "floors           0.256794\n",
       "yr_renovated     0.126434\n",
       "sqft_lot         0.089661\n",
       "sqft_lot15       0.082447\n",
       "yr_built         0.054012\n",
       "condition        0.036362\n",
       "long             0.021626\n",
       "id              -0.016762\n",
       "zipcode         -0.053203\n",
       "Name: price, dtype: float64"
      ]
     },
     "execution_count": 15,
     "metadata": {},
     "output_type": "execute_result"
    }
   ],
   "source": [
    "df.corr()['price'].sort_values(ascending=False)"
   ]
  },
  {
   "cell_type": "code",
   "execution_count": 18,
   "id": "5579df04",
   "metadata": {},
   "outputs": [
    {
     "data": {
      "text/plain": [
       "<AxesSubplot:xlabel='price', ylabel='sqft_living'>"
      ]
     },
     "execution_count": 18,
     "metadata": {},
     "output_type": "execute_result"
    },
    {
     "data": {
      "image/png": "[encoded data removed]",
      "text/plain": [
       "<Figure size 432x288 with 1 Axes>"
      ]
     },
     "metadata": {
      "needs_background": "light"
     },
     "output_type": "display_data"
    }
   ],
   "source": [
    "sns.scatterplot(x = df['price'], y= df['sqft_living'])"
   ]
  },
  {
   "cell_type": "markdown",
   "id": "68f24ab0",
   "metadata": {},
   "source": [
    "👇 Visualize the correlation between column pairs in a dataframe."
   ]
  },
  {
   "cell_type": "code",
   "execution_count": 19,
   "id": "5001c3a6",
   "metadata": {},
   "outputs": [
    {
     "data": {
      "text/html": [
       "<div>\n",
       "<style scoped>\n",
       "    .dataframe tbody tr th:only-of-type {\n",
       "        vertical-align: middle;\n",
       "    }\n",
       "\n",
       "    .dataframe tbody tr th {\n",
       "        vertical-align: top;\n",
       "    }\n",
       "\n",
       "    .dataframe thead th {\n",
       "        text-align: right;\n",
       "    }\n",
       "</style>\n",
       "<table border=\"1\" class=\"dataframe\">\n",
       "  <thead>\n",
       "    <tr style=\"text-align: right;\">\n",
       "      <th></th>\n",
       "      <th>feature_1</th>\n",
       "      <th>feature_2</th>\n",
       "      <th>correlation</th>\n",
       "    </tr>\n",
       "  </thead>\n",
       "  <tbody>\n",
       "    <tr>\n",
       "      <th>224</th>\n",
       "      <td>sqft_above</td>\n",
       "      <td>sqft_living</td>\n",
       "      <td>0.876597</td>\n",
       "    </tr>\n",
       "    <tr>\n",
       "      <th>91</th>\n",
       "      <td>sqft_living</td>\n",
       "      <td>sqft_above</td>\n",
       "      <td>0.876597</td>\n",
       "    </tr>\n",
       "    <tr>\n",
       "      <th>204</th>\n",
       "      <td>grade</td>\n",
       "      <td>sqft_living</td>\n",
       "      <td>0.762704</td>\n",
       "    </tr>\n",
       "    <tr>\n",
       "      <th>90</th>\n",
       "      <td>sqft_living</td>\n",
       "      <td>grade</td>\n",
       "      <td>0.762704</td>\n",
       "    </tr>\n",
       "    <tr>\n",
       "      <th>98</th>\n",
       "      <td>sqft_living</td>\n",
       "      <td>sqft_living15</td>\n",
       "      <td>0.756420</td>\n",
       "    </tr>\n",
       "  </tbody>\n",
       "</table>\n",
       "</div>"
      ],
      "text/plain": [
       "       feature_1      feature_2  correlation\n",
       "224   sqft_above    sqft_living     0.876597\n",
       "91   sqft_living     sqft_above     0.876597\n",
       "204        grade    sqft_living     0.762704\n",
       "90   sqft_living          grade     0.762704\n",
       "98   sqft_living  sqft_living15     0.756420"
      ]
     },
     "execution_count": 19,
     "metadata": {},
     "output_type": "execute_result"
    }
   ],
   "source": [
    "corr_df = corr.unstack().reset_index() # Unstack correlation matrix \n",
    "corr_df.columns = ['feature_1','feature_2', 'correlation'] # rename columns\n",
    "corr_df.sort_values(by=\"correlation\",ascending=False, inplace=True) # sort by correlation\n",
    "corr_df = corr_df[corr_df['feature_1'] != corr_df['feature_2']] # Remove self correlation\n",
    "corr_df.head()"
   ]
  },
  {
   "cell_type": "markdown",
   "id": "43139d7e",
   "metadata": {},
   "source": [
    "❓ How many pairs of features exceed a correlation of 0.9 or -0.9? Save your answer as an integer under variable name `correlated_features`"
   ]
  },
  {
   "cell_type": "code",
   "execution_count": 20,
   "id": "df5a125c",
   "metadata": {},
   "outputs": [
    {
     "data": {
      "text/plain": [
       "0"
      ]
     },
     "execution_count": 20,
     "metadata": {},
     "output_type": "execute_result"
    }
   ],
   "source": [
    "correlated_features = len(corr_df[(corr_df['correlation'] >= 0.9) | (corr_df['correlation'] <= -0.9)])\n",
    "correlated_features"
   ]
  },
  {
   "cell_type": "markdown",
   "id": "ca8d05a0",
   "metadata": {},
   "source": [
    "# Base Modelling"
   ]
  },
  {
   "cell_type": "markdown",
   "id": "3244b67e",
   "metadata": {},
   "source": [
    "👇 Prepare the feature set `X` and target `y`. Remember that we want to model the `SalePrice` with the preprocessed features."
   ]
  },
  {
   "cell_type": "code",
   "execution_count": 21,
   "id": "5c4ca08b",
   "metadata": {},
   "outputs": [],
   "source": [
    "X = df.drop(columns=['price','id','date'])\n",
    "y = df['price']"
   ]
  },
  {
   "cell_type": "code",
   "execution_count": 22,
   "id": "563b74ed",
   "metadata": {},
   "outputs": [
    {
     "data": {
      "text/html": [
       "<div>\n",
       "<style scoped>\n",
       "    .dataframe tbody tr th:only-of-type {\n",
       "        vertical-align: middle;\n",
       "    }\n",
       "\n",
       "    .dataframe tbody tr th {\n",
       "        vertical-align: top;\n",
       "    }\n",
       "\n",
       "    .dataframe thead th {\n",
       "        text-align: right;\n",
       "    }\n",
       "</style>\n",
       "<table border=\"1\" class=\"dataframe\">\n",
       "  <thead>\n",
       "    <tr style=\"text-align: right;\">\n",
       "      <th></th>\n",
       "      <th>bedrooms</th>\n",
       "      <th>bathrooms</th>\n",
       "      <th>sqft_living</th>\n",
       "      <th>sqft_lot</th>\n",
       "      <th>floors</th>\n",
       "      <th>waterfront</th>\n",
       "      <th>view</th>\n",
       "      <th>condition</th>\n",
       "      <th>grade</th>\n",
       "      <th>sqft_above</th>\n",
       "      <th>sqft_basement</th>\n",
       "      <th>yr_built</th>\n",
       "      <th>yr_renovated</th>\n",
       "      <th>zipcode</th>\n",
       "      <th>lat</th>\n",
       "      <th>long</th>\n",
       "      <th>sqft_living15</th>\n",
       "      <th>sqft_lot15</th>\n",
       "    </tr>\n",
       "  </thead>\n",
       "  <tbody>\n",
       "    <tr>\n",
       "      <th>count</th>\n",
       "      <td>21613.000000</td>\n",
       "      <td>21613.000000</td>\n",
       "      <td>21613.000000</td>\n",
       "      <td>2.161300e+04</td>\n",
       "      <td>21613.000000</td>\n",
       "      <td>21613.000000</td>\n",
       "      <td>21613.000000</td>\n",
       "      <td>21613.000000</td>\n",
       "      <td>21613.000000</td>\n",
       "      <td>21613.000000</td>\n",
       "      <td>21613.000000</td>\n",
       "      <td>21613.000000</td>\n",
       "      <td>21613.000000</td>\n",
       "      <td>21613.000000</td>\n",
       "      <td>21613.000000</td>\n",
       "      <td>21613.000000</td>\n",
       "      <td>21613.000000</td>\n",
       "      <td>21613.000000</td>\n",
       "    </tr>\n",
       "    <tr>\n",
       "      <th>mean</th>\n",
       "      <td>3.370842</td>\n",
       "      <td>2.114757</td>\n",
       "      <td>2079.899736</td>\n",
       "      <td>1.510697e+04</td>\n",
       "      <td>1.494309</td>\n",
       "      <td>0.007542</td>\n",
       "      <td>0.234303</td>\n",
       "      <td>3.409430</td>\n",
       "      <td>7.656873</td>\n",
       "      <td>1788.390691</td>\n",
       "      <td>291.509045</td>\n",
       "      <td>1971.005136</td>\n",
       "      <td>84.402258</td>\n",
       "      <td>98077.939805</td>\n",
       "      <td>47.560053</td>\n",
       "      <td>-122.213896</td>\n",
       "      <td>1986.552492</td>\n",
       "      <td>12768.455652</td>\n",
       "    </tr>\n",
       "    <tr>\n",
       "      <th>std</th>\n",
       "      <td>0.930062</td>\n",
       "      <td>0.770163</td>\n",
       "      <td>918.440897</td>\n",
       "      <td>4.142051e+04</td>\n",
       "      <td>0.539989</td>\n",
       "      <td>0.086517</td>\n",
       "      <td>0.766318</td>\n",
       "      <td>0.650743</td>\n",
       "      <td>1.175459</td>\n",
       "      <td>828.090978</td>\n",
       "      <td>442.575043</td>\n",
       "      <td>29.373411</td>\n",
       "      <td>401.679240</td>\n",
       "      <td>53.505026</td>\n",
       "      <td>0.138564</td>\n",
       "      <td>0.140828</td>\n",
       "      <td>685.391304</td>\n",
       "      <td>27304.179631</td>\n",
       "    </tr>\n",
       "    <tr>\n",
       "      <th>min</th>\n",
       "      <td>0.000000</td>\n",
       "      <td>0.000000</td>\n",
       "      <td>290.000000</td>\n",
       "      <td>5.200000e+02</td>\n",
       "      <td>1.000000</td>\n",
       "      <td>0.000000</td>\n",
       "      <td>0.000000</td>\n",
       "      <td>1.000000</td>\n",
       "      <td>1.000000</td>\n",
       "      <td>290.000000</td>\n",
       "      <td>0.000000</td>\n",
       "      <td>1900.000000</td>\n",
       "      <td>0.000000</td>\n",
       "      <td>98001.000000</td>\n",
       "      <td>47.155900</td>\n",
       "      <td>-122.519000</td>\n",
       "      <td>399.000000</td>\n",
       "      <td>651.000000</td>\n",
       "    </tr>\n",
       "    <tr>\n",
       "      <th>25%</th>\n",
       "      <td>3.000000</td>\n",
       "      <td>1.750000</td>\n",
       "      <td>1427.000000</td>\n",
       "      <td>5.040000e+03</td>\n",
       "      <td>1.000000</td>\n",
       "      <td>0.000000</td>\n",
       "      <td>0.000000</td>\n",
       "      <td>3.000000</td>\n",
       "      <td>7.000000</td>\n",
       "      <td>1190.000000</td>\n",
       "      <td>0.000000</td>\n",
       "      <td>1951.000000</td>\n",
       "      <td>0.000000</td>\n",
       "      <td>98033.000000</td>\n",
       "      <td>47.471000</td>\n",
       "      <td>-122.328000</td>\n",
       "      <td>1490.000000</td>\n",
       "      <td>5100.000000</td>\n",
       "    </tr>\n",
       "    <tr>\n",
       "      <th>50%</th>\n",
       "      <td>3.000000</td>\n",
       "      <td>2.250000</td>\n",
       "      <td>1910.000000</td>\n",
       "      <td>7.618000e+03</td>\n",
       "      <td>1.500000</td>\n",
       "      <td>0.000000</td>\n",
       "      <td>0.000000</td>\n",
       "      <td>3.000000</td>\n",
       "      <td>7.000000</td>\n",
       "      <td>1560.000000</td>\n",
       "      <td>0.000000</td>\n",
       "      <td>1975.000000</td>\n",
       "      <td>0.000000</td>\n",
       "      <td>98065.000000</td>\n",
       "      <td>47.571800</td>\n",
       "      <td>-122.230000</td>\n",
       "      <td>1840.000000</td>\n",
       "      <td>7620.000000</td>\n",
       "    </tr>\n",
       "    <tr>\n",
       "      <th>75%</th>\n",
       "      <td>4.000000</td>\n",
       "      <td>2.500000</td>\n",
       "      <td>2550.000000</td>\n",
       "      <td>1.068800e+04</td>\n",
       "      <td>2.000000</td>\n",
       "      <td>0.000000</td>\n",
       "      <td>0.000000</td>\n",
       "      <td>4.000000</td>\n",
       "      <td>8.000000</td>\n",
       "      <td>2210.000000</td>\n",
       "      <td>560.000000</td>\n",
       "      <td>1997.000000</td>\n",
       "      <td>0.000000</td>\n",
       "      <td>98118.000000</td>\n",
       "      <td>47.678000</td>\n",
       "      <td>-122.125000</td>\n",
       "      <td>2360.000000</td>\n",
       "      <td>10083.000000</td>\n",
       "    </tr>\n",
       "    <tr>\n",
       "      <th>max</th>\n",
       "      <td>33.000000</td>\n",
       "      <td>8.000000</td>\n",
       "      <td>13540.000000</td>\n",
       "      <td>1.651359e+06</td>\n",
       "      <td>3.500000</td>\n",
       "      <td>1.000000</td>\n",
       "      <td>4.000000</td>\n",
       "      <td>5.000000</td>\n",
       "      <td>13.000000</td>\n",
       "      <td>9410.000000</td>\n",
       "      <td>4820.000000</td>\n",
       "      <td>2015.000000</td>\n",
       "      <td>2015.000000</td>\n",
       "      <td>98199.000000</td>\n",
       "      <td>47.777600</td>\n",
       "      <td>-121.315000</td>\n",
       "      <td>6210.000000</td>\n",
       "      <td>871200.000000</td>\n",
       "    </tr>\n",
       "  </tbody>\n",
       "</table>\n",
       "</div>"
      ],
      "text/plain": [
       "           bedrooms     bathrooms   sqft_living      sqft_lot        floors  \\\n",
       "count  21613.000000  21613.000000  21613.000000  2.161300e+04  21613.000000   \n",
       "mean       3.370842      2.114757   2079.899736  1.510697e+04      1.494309   \n",
       "std        0.930062      0.770163    918.440897  4.142051e+04      0.539989   \n",
       "min        0.000000      0.000000    290.000000  5.200000e+02      1.000000   \n",
       "25%        3.000000      1.750000   1427.000000  5.040000e+03      1.000000   \n",
       "50%        3.000000      2.250000   1910.000000  7.618000e+03      1.500000   \n",
       "75%        4.000000      2.500000   2550.000000  1.068800e+04      2.000000   \n",
       "max       33.000000      8.000000  13540.000000  1.651359e+06      3.500000   \n",
       "\n",
       "         waterfront          view     condition         grade    sqft_above  \\\n",
       "count  21613.000000  21613.000000  21613.000000  21613.000000  21613.000000   \n",
       "mean       0.007542      0.234303      3.409430      7.656873   1788.390691   \n",
       "std        0.086517      0.766318      0.650743      1.175459    828.090978   \n",
       "min        0.000000      0.000000      1.000000      1.000000    290.000000   \n",
       "25%        0.000000      0.000000      3.000000      7.000000   1190.000000   \n",
       "50%        0.000000      0.000000      3.000000      7.000000   1560.000000   \n",
       "75%        0.000000      0.000000      4.000000      8.000000   2210.000000   \n",
       "max        1.000000      4.000000      5.000000     13.000000   9410.000000   \n",
       "\n",
       "       sqft_basement      yr_built  yr_renovated       zipcode           lat  \\\n",
       "count   21613.000000  21613.000000  21613.000000  21613.000000  21613.000000   \n",
       "mean      291.509045   1971.005136     84.402258  98077.939805     47.560053   \n",
       "std       442.575043     29.373411    401.679240     53.505026      0.138564   \n",
       "min         0.000000   1900.000000      0.000000  98001.000000     47.155900   \n",
       "25%         0.000000   1951.000000      0.000000  98033.000000     47.471000   \n",
       "50%         0.000000   1975.000000      0.000000  98065.000000     47.571800   \n",
       "75%       560.000000   1997.000000      0.000000  98118.000000     47.678000   \n",
       "max      4820.000000   2015.000000   2015.000000  98199.000000     47.777600   \n",
       "\n",
       "               long  sqft_living15     sqft_lot15  \n",
       "count  21613.000000   21613.000000   21613.000000  \n",
       "mean    -122.213896    1986.552492   12768.455652  \n",
       "std        0.140828     685.391304   27304.179631  \n",
       "min     -122.519000     399.000000     651.000000  \n",
       "25%     -122.328000    1490.000000    5100.000000  \n",
       "50%     -122.230000    1840.000000    7620.000000  \n",
       "75%     -122.125000    2360.000000   10083.000000  \n",
       "max     -121.315000    6210.000000  871200.000000  "
      ]
     },
     "execution_count": 22,
     "metadata": {},
     "output_type": "execute_result"
    }
   ],
   "source": [
    "X.describe()"
   ]
  },
  {
   "cell_type": "markdown",
   "id": "d2975c79",
   "metadata": {},
   "source": [
    "👇 Cross validate a linear regression model. Save the score under variable name `base_model_score`."
   ]
  },
  {
   "cell_type": "code",
   "execution_count": 23,
   "id": "9fd9291d",
   "metadata": {},
   "outputs": [
    {
     "data": {
      "text/plain": [
       "0.695187524773045"
      ]
     },
     "execution_count": 23,
     "metadata": {},
     "output_type": "execute_result"
    }
   ],
   "source": [
    "from sklearn.linear_model import LinearRegression\n",
    "from sklearn.model_selection import cross_val_score\n",
    "\n",
    "model = LinearRegression()\n",
    "\n",
    "scores = cross_val_score(model, X, y, cv=10)\n",
    "\n",
    "base_model_score = scores.mean()\n",
    "\n",
    "base_model_score"
   ]
  },
  {
   "cell_type": "markdown",
   "id": "fabb0aed",
   "metadata": {},
   "source": [
    "# Feature Permutation"
   ]
  },
  {
   "cell_type": "markdown",
   "id": "f36b0bd8",
   "metadata": {},
   "source": [
    "👇 Perform feature permutation, and rank features by order of importance."
   ]
  },
  {
   "cell_type": "code",
   "execution_count": 24,
   "id": "f86446b5",
   "metadata": {},
   "outputs": [
    {
     "data": {
      "text/html": [
       "<div>\n",
       "<style scoped>\n",
       "    .dataframe tbody tr th:only-of-type {\n",
       "        vertical-align: middle;\n",
       "    }\n",
       "\n",
       "    .dataframe tbody tr th {\n",
       "        vertical-align: top;\n",
       "    }\n",
       "\n",
       "    .dataframe thead th {\n",
       "        text-align: right;\n",
       "    }\n",
       "</style>\n",
       "<table border=\"1\" class=\"dataframe\">\n",
       "  <thead>\n",
       "    <tr style=\"text-align: right;\">\n",
       "      <th></th>\n",
       "      <th>feature</th>\n",
       "      <th>feature importance</th>\n",
       "    </tr>\n",
       "  </thead>\n",
       "  <tbody>\n",
       "    <tr>\n",
       "      <th>8</th>\n",
       "      <td>grade</td>\n",
       "      <td>0.188523</td>\n",
       "    </tr>\n",
       "    <tr>\n",
       "      <th>2</th>\n",
       "      <td>sqft_living</td>\n",
       "      <td>0.152883</td>\n",
       "    </tr>\n",
       "    <tr>\n",
       "      <th>14</th>\n",
       "      <td>lat</td>\n",
       "      <td>0.103562</td>\n",
       "    </tr>\n",
       "    <tr>\n",
       "      <th>11</th>\n",
       "      <td>yr_built</td>\n",
       "      <td>0.087732</td>\n",
       "    </tr>\n",
       "    <tr>\n",
       "      <th>9</th>\n",
       "      <td>sqft_above</td>\n",
       "      <td>0.05109</td>\n",
       "    </tr>\n",
       "    <tr>\n",
       "      <th>5</th>\n",
       "      <td>waterfront</td>\n",
       "      <td>0.037728</td>\n",
       "    </tr>\n",
       "    <tr>\n",
       "      <th>6</th>\n",
       "      <td>view</td>\n",
       "      <td>0.024305</td>\n",
       "    </tr>\n",
       "    <tr>\n",
       "      <th>0</th>\n",
       "      <td>bedrooms</td>\n",
       "      <td>0.01644</td>\n",
       "    </tr>\n",
       "    <tr>\n",
       "      <th>1</th>\n",
       "      <td>bathrooms</td>\n",
       "      <td>0.014929</td>\n",
       "    </tr>\n",
       "    <tr>\n",
       "      <th>13</th>\n",
       "      <td>zipcode</td>\n",
       "      <td>0.014398</td>\n",
       "    </tr>\n",
       "    <tr>\n",
       "      <th>15</th>\n",
       "      <td>long</td>\n",
       "      <td>0.013578</td>\n",
       "    </tr>\n",
       "    <tr>\n",
       "      <th>10</th>\n",
       "      <td>sqft_basement</td>\n",
       "      <td>0.004601</td>\n",
       "    </tr>\n",
       "    <tr>\n",
       "      <th>7</th>\n",
       "      <td>condition</td>\n",
       "      <td>0.004339</td>\n",
       "    </tr>\n",
       "    <tr>\n",
       "      <th>16</th>\n",
       "      <td>sqft_living15</td>\n",
       "      <td>0.003246</td>\n",
       "    </tr>\n",
       "    <tr>\n",
       "      <th>17</th>\n",
       "      <td>sqft_lot15</td>\n",
       "      <td>0.001631</td>\n",
       "    </tr>\n",
       "    <tr>\n",
       "      <th>12</th>\n",
       "      <td>yr_renovated</td>\n",
       "      <td>0.000927</td>\n",
       "    </tr>\n",
       "    <tr>\n",
       "      <th>3</th>\n",
       "      <td>sqft_lot</td>\n",
       "      <td>0.000423</td>\n",
       "    </tr>\n",
       "    <tr>\n",
       "      <th>4</th>\n",
       "      <td>floors</td>\n",
       "      <td>0.000196</td>\n",
       "    </tr>\n",
       "  </tbody>\n",
       "</table>\n",
       "</div>"
      ],
      "text/plain": [
       "          feature feature importance\n",
       "8           grade           0.188523\n",
       "2     sqft_living           0.152883\n",
       "14            lat           0.103562\n",
       "11       yr_built           0.087732\n",
       "9      sqft_above            0.05109\n",
       "5      waterfront           0.037728\n",
       "6            view           0.024305\n",
       "0        bedrooms            0.01644\n",
       "1       bathrooms           0.014929\n",
       "13        zipcode           0.014398\n",
       "15           long           0.013578\n",
       "10  sqft_basement           0.004601\n",
       "7       condition           0.004339\n",
       "16  sqft_living15           0.003246\n",
       "17     sqft_lot15           0.001631\n",
       "12   yr_renovated           0.000927\n",
       "3        sqft_lot           0.000423\n",
       "4          floors           0.000196"
      ]
     },
     "execution_count": 24,
     "metadata": {},
     "output_type": "execute_result"
    }
   ],
   "source": [
    "\n",
    "from sklearn.inspection import permutation_importance\n",
    "\n",
    "model = LinearRegression().fit(X, y) # Fit model\n",
    "\n",
    "permutation_score = permutation_importance(model, X, y, n_repeats=300) # Perform Permutation\n",
    "\n",
    "importance_df = pd.DataFrame(np.vstack((X.columns,\n",
    "                                        permutation_score.importances_mean)).T) # Unstack results\n",
    "\n",
    "importance_df.columns=['feature','feature importance'] # Change column names\n",
    "\n",
    "importance_df.sort_values(by=\"feature importance\", ascending = False) # Order by importance"
   ]
  },
  {
   "cell_type": "markdown",
   "id": "12e9ad99",
   "metadata": {},
   "source": [
    "# Reduced complexity model"
   ]
  },
  {
   "cell_type": "markdown",
   "id": "a0c46c59",
   "metadata": {},
   "source": [
    "👇 Drop the the weak features and cross-validate a new model. You should aim to maintain a score close to the previous one. Save the score under variable name `simplified_model_score`."
   ]
  },
  {
   "cell_type": "code",
   "execution_count": 25,
   "id": "d8db8988",
   "metadata": {},
   "outputs": [
    {
     "data": {
      "text/plain": [
       "0.6947411783581784"
      ]
     },
     "execution_count": 25,
     "metadata": {},
     "output_type": "execute_result"
    }
   ],
   "source": [
    "X = X.drop(columns=['floors','sqft_lot','yr_renovated','sqft_lot15','sqft_living15']) # Drops weak features\n",
    "\n",
    "model = LinearRegression()\n",
    "\n",
    "scores = cross_val_score(model, X, y, cv=10)\n",
    "\n",
    "simplified_model_score = scores.mean()\n",
    "\n",
    "simplified_model_score"
   ]
  },
  {
   "cell_type": "code",
   "execution_count": 26,
   "id": "e99dc7bd",
   "metadata": {},
   "outputs": [
    {
     "data": {
      "text/html": [
       "<div>\n",
       "<style scoped>\n",
       "    .dataframe tbody tr th:only-of-type {\n",
       "        vertical-align: middle;\n",
       "    }\n",
       "\n",
       "    .dataframe tbody tr th {\n",
       "        vertical-align: top;\n",
       "    }\n",
       "\n",
       "    .dataframe thead th {\n",
       "        text-align: right;\n",
       "    }\n",
       "</style>\n",
       "<table border=\"1\" class=\"dataframe\">\n",
       "  <thead>\n",
       "    <tr style=\"text-align: right;\">\n",
       "      <th></th>\n",
       "      <th>price</th>\n",
       "      <th>bedrooms</th>\n",
       "      <th>zipcode</th>\n",
       "    </tr>\n",
       "  </thead>\n",
       "  <tbody>\n",
       "    <tr>\n",
       "      <th>7252</th>\n",
       "      <td>7700000.0</td>\n",
       "      <td>6</td>\n",
       "      <td>98102</td>\n",
       "    </tr>\n",
       "    <tr>\n",
       "      <th>3914</th>\n",
       "      <td>7062500.0</td>\n",
       "      <td>5</td>\n",
       "      <td>98004</td>\n",
       "    </tr>\n",
       "    <tr>\n",
       "      <th>9254</th>\n",
       "      <td>6885000.0</td>\n",
       "      <td>6</td>\n",
       "      <td>98039</td>\n",
       "    </tr>\n",
       "    <tr>\n",
       "      <th>4411</th>\n",
       "      <td>5570000.0</td>\n",
       "      <td>5</td>\n",
       "      <td>98039</td>\n",
       "    </tr>\n",
       "    <tr>\n",
       "      <th>1448</th>\n",
       "      <td>5350000.0</td>\n",
       "      <td>5</td>\n",
       "      <td>98004</td>\n",
       "    </tr>\n",
       "    <tr>\n",
       "      <th>1315</th>\n",
       "      <td>5300000.0</td>\n",
       "      <td>6</td>\n",
       "      <td>98040</td>\n",
       "    </tr>\n",
       "    <tr>\n",
       "      <th>1164</th>\n",
       "      <td>5110800.0</td>\n",
       "      <td>5</td>\n",
       "      <td>98033</td>\n",
       "    </tr>\n",
       "    <tr>\n",
       "      <th>8092</th>\n",
       "      <td>4668000.0</td>\n",
       "      <td>5</td>\n",
       "      <td>98040</td>\n",
       "    </tr>\n",
       "    <tr>\n",
       "      <th>2626</th>\n",
       "      <td>4500000.0</td>\n",
       "      <td>5</td>\n",
       "      <td>98155</td>\n",
       "    </tr>\n",
       "    <tr>\n",
       "      <th>8638</th>\n",
       "      <td>4489000.0</td>\n",
       "      <td>4</td>\n",
       "      <td>98004</td>\n",
       "    </tr>\n",
       "    <tr>\n",
       "      <th>12370</th>\n",
       "      <td>4208000.0</td>\n",
       "      <td>5</td>\n",
       "      <td>98006</td>\n",
       "    </tr>\n",
       "    <tr>\n",
       "      <th>4149</th>\n",
       "      <td>4000000.0</td>\n",
       "      <td>4</td>\n",
       "      <td>98039</td>\n",
       "    </tr>\n",
       "    <tr>\n",
       "      <th>2085</th>\n",
       "      <td>3850000.0</td>\n",
       "      <td>4</td>\n",
       "      <td>98040</td>\n",
       "    </tr>\n",
       "    <tr>\n",
       "      <th>19017</th>\n",
       "      <td>3800000.0</td>\n",
       "      <td>3</td>\n",
       "      <td>98177</td>\n",
       "    </tr>\n",
       "    <tr>\n",
       "      <th>7035</th>\n",
       "      <td>3800000.0</td>\n",
       "      <td>5</td>\n",
       "      <td>98004</td>\n",
       "    </tr>\n",
       "  </tbody>\n",
       "</table>\n",
       "</div>"
      ],
      "text/plain": [
       "           price  bedrooms  zipcode\n",
       "7252   7700000.0         6    98102\n",
       "3914   7062500.0         5    98004\n",
       "9254   6885000.0         6    98039\n",
       "4411   5570000.0         5    98039\n",
       "1448   5350000.0         5    98004\n",
       "1315   5300000.0         6    98040\n",
       "1164   5110800.0         5    98033\n",
       "8092   4668000.0         5    98040\n",
       "2626   4500000.0         5    98155\n",
       "8638   4489000.0         4    98004\n",
       "12370  4208000.0         5    98006\n",
       "4149   4000000.0         4    98039\n",
       "2085   3850000.0         4    98040\n",
       "19017  3800000.0         3    98177\n",
       "7035   3800000.0         5    98004"
      ]
     },
     "execution_count": 26,
     "metadata": {},
     "output_type": "execute_result"
    }
   ],
   "source": [
    "\n",
    "df1= df[['price','bedrooms','zipcode']].sort_values(by='price', ascending=False)\n",
    "\n",
    "df1.head(15)\n",
    "\n"
   ]
  },
  {
   "cell_type": "markdown",
   "id": "e00d8a35",
   "metadata": {},
   "source": [
    "# Multivariate Linear Regression (with statsmodel)"
   ]
  },
  {
   "cell_type": "code",
   "execution_count": 27,
   "id": "ed311d62",
   "metadata": {},
   "outputs": [],
   "source": [
    "import statsmodels.api as sm"
   ]
  },
  {
   "cell_type": "code",
   "execution_count": 28,
   "id": "b057f272",
   "metadata": {},
   "outputs": [
    {
     "data": {
      "text/html": [
       "<table class=\"simpletable\">\n",
       "<caption>OLS Regression Results</caption>\n",
       "<tr>\n",
       "  <th>Dep. Variable:</th>          <td>price</td>      <th>  R-squared:         </th>  <td>   0.445</td>  \n",
       "</tr>\n",
       "<tr>\n",
       "  <th>Model:</th>                   <td>OLS</td>       <th>  Adj. R-squared:    </th>  <td>   0.445</td>  \n",
       "</tr>\n",
       "<tr>\n",
       "  <th>Method:</th>             <td>Least Squares</td>  <th>  F-statistic:       </th>  <td>1.736e+04</td> \n",
       "</tr>\n",
       "<tr>\n",
       "  <th>Date:</th>             <td>Fri, 08 Apr 2022</td> <th>  Prob (F-statistic):</th>   <td>  0.00</td>   \n",
       "</tr>\n",
       "<tr>\n",
       "  <th>Time:</th>                 <td>15:37:28</td>     <th>  Log-Likelihood:    </th> <td>-3.0123e+05</td>\n",
       "</tr>\n",
       "<tr>\n",
       "  <th>No. Observations:</th>      <td> 21613</td>      <th>  AIC:               </th>  <td>6.025e+05</td> \n",
       "</tr>\n",
       "<tr>\n",
       "  <th>Df Residuals:</th>          <td> 21611</td>      <th>  BIC:               </th>  <td>6.025e+05</td> \n",
       "</tr>\n",
       "<tr>\n",
       "  <th>Df Model:</th>              <td>     1</td>      <th>                     </th>      <td> </td>     \n",
       "</tr>\n",
       "<tr>\n",
       "  <th>Covariance Type:</th>      <td>nonrobust</td>    <th>                     </th>      <td> </td>     \n",
       "</tr>\n",
       "</table>\n",
       "<table class=\"simpletable\">\n",
       "<tr>\n",
       "      <td></td>         <th>coef</th>     <th>std err</th>      <th>t</th>      <th>P>|t|</th>  <th>[0.025</th>    <th>0.975]</th>  \n",
       "</tr>\n",
       "<tr>\n",
       "  <th>Intercept</th> <td>-1.056e+06</td> <td> 1.23e+04</td> <td>  -86.166</td> <td> 0.000</td> <td>-1.08e+06</td> <td>-1.03e+06</td>\n",
       "</tr>\n",
       "<tr>\n",
       "  <th>grade</th>     <td> 2.085e+05</td> <td> 1582.103</td> <td>  131.760</td> <td> 0.000</td> <td> 2.05e+05</td> <td> 2.12e+05</td>\n",
       "</tr>\n",
       "</table>\n",
       "<table class=\"simpletable\">\n",
       "<tr>\n",
       "  <th>Omnibus:</th>       <td>19920.375</td> <th>  Durbin-Watson:     </th>  <td>   1.969</td>  \n",
       "</tr>\n",
       "<tr>\n",
       "  <th>Prob(Omnibus):</th>  <td> 0.000</td>   <th>  Jarque-Bera (JB):  </th> <td>2053087.758</td>\n",
       "</tr>\n",
       "<tr>\n",
       "  <th>Skew:</th>           <td> 4.090</td>   <th>  Prob(JB):          </th>  <td>    0.00</td>  \n",
       "</tr>\n",
       "<tr>\n",
       "  <th>Kurtosis:</th>       <td>50.042</td>   <th>  Cond. No.          </th>  <td>    51.9</td>  \n",
       "</tr>\n",
       "</table><br/><br/>Warnings:<br/>[1] Standard Errors assume that the covariance matrix of the errors is correctly specified."
      ],
      "text/plain": [
       "<class 'statsmodels.iolib.summary.Summary'>\n",
       "\"\"\"\n",
       "                            OLS Regression Results                            \n",
       "==============================================================================\n",
       "Dep. Variable:                  price   R-squared:                       0.445\n",
       "Model:                            OLS   Adj. R-squared:                  0.445\n",
       "Method:                 Least Squares   F-statistic:                 1.736e+04\n",
       "Date:                Fri, 08 Apr 2022   Prob (F-statistic):               0.00\n",
       "Time:                        15:37:28   Log-Likelihood:            -3.0123e+05\n",
       "No. Observations:               21613   AIC:                         6.025e+05\n",
       "Df Residuals:                   21611   BIC:                         6.025e+05\n",
       "Df Model:                           1                                         \n",
       "Covariance Type:            nonrobust                                         \n",
       "==============================================================================\n",
       "                 coef    std err          t      P>|t|      [0.025      0.975]\n",
       "------------------------------------------------------------------------------\n",
       "Intercept  -1.056e+06   1.23e+04    -86.166      0.000   -1.08e+06   -1.03e+06\n",
       "grade       2.085e+05   1582.103    131.760      0.000    2.05e+05    2.12e+05\n",
       "==============================================================================\n",
       "Omnibus:                    19920.375   Durbin-Watson:                   1.969\n",
       "Prob(Omnibus):                  0.000   Jarque-Bera (JB):          2053087.758\n",
       "Skew:                           4.090   Prob(JB):                         0.00\n",
       "Kurtosis:                      50.042   Cond. No.                         51.9\n",
       "==============================================================================\n",
       "\n",
       "Warnings:\n",
       "[1] Standard Errors assume that the covariance matrix of the errors is correctly specified.\n",
       "\"\"\""
      ]
     },
     "execution_count": 28,
     "metadata": {},
     "output_type": "execute_result"
    }
   ],
   "source": [
    "import statsmodels.formula.api as smf\n",
    "\n",
    "\n",
    "#model1: an ols regression of review_score over wait_time\n",
    "model1 = smf.ols(formula = 'price ~ grade', data=df).fit()\n",
    "model1.summary()"
   ]
  },
  {
   "cell_type": "code",
   "execution_count": 29,
   "id": "ee77417d",
   "metadata": {},
   "outputs": [
    {
     "data": {
      "text/plain": [
       "['id',\n",
       " 'date',\n",
       " 'price',\n",
       " 'bedrooms',\n",
       " 'bathrooms',\n",
       " 'sqft_living',\n",
       " 'sqft_lot',\n",
       " 'floors',\n",
       " 'waterfront',\n",
       " 'view',\n",
       " 'condition',\n",
       " 'grade',\n",
       " 'sqft_above',\n",
       " 'sqft_basement',\n",
       " 'yr_built',\n",
       " 'yr_renovated',\n",
       " 'zipcode',\n",
       " 'lat',\n",
       " 'long',\n",
       " 'sqft_living15',\n",
       " 'sqft_lot15']"
      ]
     },
     "execution_count": 29,
     "metadata": {},
     "output_type": "execute_result"
    }
   ],
   "source": [
    "features_test = df.columns.to_list()\n",
    "features_test"
   ]
  },
  {
   "cell_type": "code",
   "execution_count": 30,
   "id": "b9966f3b",
   "metadata": {},
   "outputs": [
    {
     "data": {
      "text/plain": [
       "Index(['id', 'date', 'price', 'bedrooms', 'bathrooms', 'sqft_living',\n",
       "       'sqft_lot', 'floors', 'waterfront', 'view', 'condition', 'grade',\n",
       "       'sqft_above', 'sqft_basement', 'yr_built', 'yr_renovated', 'zipcode',\n",
       "       'lat', 'long', 'sqft_living15', 'sqft_lot15'],\n",
       "      dtype='object')"
      ]
     },
     "execution_count": 30,
     "metadata": {},
     "output_type": "execute_result"
    }
   ],
   "source": [
    "df.columns"
   ]
  },
  {
   "cell_type": "code",
   "execution_count": 31,
   "id": "479e954f",
   "metadata": {},
   "outputs": [],
   "source": [
    "features = ['bedrooms', 'bathrooms', 'sqft_living',\n",
    "       'sqft_lot', 'floors', 'waterfront', 'view', 'condition', 'grade',\n",
    "       'sqft_above', 'sqft_basement', 'yr_built', 'yr_renovated', 'zipcode',\n",
    "       'lat', 'long', 'sqft_living15', 'sqft_lot15']"
   ]
  },
  {
   "cell_type": "code",
   "execution_count": 32,
   "id": "fa18ac4c",
   "metadata": {},
   "outputs": [
    {
     "data": {
      "text/plain": [
       "'price ~ bedrooms + bathrooms + sqft_living + sqft_lot + floors + waterfront + view + condition + grade + sqft_above + sqft_basement + yr_built + yr_renovated + zipcode + lat + long + sqft_living15 + sqft_lot15'"
      ]
     },
     "execution_count": 32,
     "metadata": {},
     "output_type": "execute_result"
    }
   ],
   "source": [
    "formula = \"price ~ \" + ' + '.join(features)\n",
    "formula"
   ]
  },
  {
   "cell_type": "markdown",
   "id": "d97aed57",
   "metadata": {},
   "source": [
    "## Normalization of the features"
   ]
  },
  {
   "cell_type": "code",
   "execution_count": 33,
   "id": "df6d8bec",
   "metadata": {},
   "outputs": [
    {
     "data": {
      "text/html": [
       "<div>\n",
       "<style scoped>\n",
       "    .dataframe tbody tr th:only-of-type {\n",
       "        vertical-align: middle;\n",
       "    }\n",
       "\n",
       "    .dataframe tbody tr th {\n",
       "        vertical-align: top;\n",
       "    }\n",
       "\n",
       "    .dataframe thead th {\n",
       "        text-align: right;\n",
       "    }\n",
       "</style>\n",
       "<table border=\"1\" class=\"dataframe\">\n",
       "  <thead>\n",
       "    <tr style=\"text-align: right;\">\n",
       "      <th></th>\n",
       "      <th>id</th>\n",
       "      <th>date</th>\n",
       "      <th>price</th>\n",
       "      <th>bedrooms</th>\n",
       "      <th>bathrooms</th>\n",
       "      <th>sqft_living</th>\n",
       "      <th>sqft_lot</th>\n",
       "      <th>floors</th>\n",
       "      <th>waterfront</th>\n",
       "      <th>view</th>\n",
       "      <th>...</th>\n",
       "      <th>grade</th>\n",
       "      <th>sqft_above</th>\n",
       "      <th>sqft_basement</th>\n",
       "      <th>yr_built</th>\n",
       "      <th>yr_renovated</th>\n",
       "      <th>zipcode</th>\n",
       "      <th>lat</th>\n",
       "      <th>long</th>\n",
       "      <th>sqft_living15</th>\n",
       "      <th>sqft_lot15</th>\n",
       "    </tr>\n",
       "  </thead>\n",
       "  <tbody>\n",
       "    <tr>\n",
       "      <th>0</th>\n",
       "      <td>7129300520</td>\n",
       "      <td>2014-10-13</td>\n",
       "      <td>221900.0</td>\n",
       "      <td>-0.398728</td>\n",
       "      <td>-1.447430</td>\n",
       "      <td>-0.979812</td>\n",
       "      <td>-0.228316</td>\n",
       "      <td>-0.915406</td>\n",
       "      <td>-0.087171</td>\n",
       "      <td>-0.305752</td>\n",
       "      <td>...</td>\n",
       "      <td>-0.558823</td>\n",
       "      <td>-0.734691</td>\n",
       "      <td>-0.658666</td>\n",
       "      <td>-0.544885</td>\n",
       "      <td>-0.210124</td>\n",
       "      <td>1.870108</td>\n",
       "      <td>-0.352564</td>\n",
       "      <td>-0.306072</td>\n",
       "      <td>-0.943333</td>\n",
       "      <td>-0.260709</td>\n",
       "    </tr>\n",
       "    <tr>\n",
       "      <th>1</th>\n",
       "      <td>6414100192</td>\n",
       "      <td>2014-12-09</td>\n",
       "      <td>538000.0</td>\n",
       "      <td>-0.398728</td>\n",
       "      <td>0.175603</td>\n",
       "      <td>0.533622</td>\n",
       "      <td>-0.189881</td>\n",
       "      <td>0.936484</td>\n",
       "      <td>-0.087171</td>\n",
       "      <td>-0.305752</td>\n",
       "      <td>...</td>\n",
       "      <td>-0.558823</td>\n",
       "      <td>0.460830</td>\n",
       "      <td>0.245136</td>\n",
       "      <td>-0.681063</td>\n",
       "      <td>4.746568</td>\n",
       "      <td>0.879547</td>\n",
       "      <td>1.161541</td>\n",
       "      <td>-0.746324</td>\n",
       "      <td>-0.432676</td>\n",
       "      <td>-0.187863</td>\n",
       "    </tr>\n",
       "    <tr>\n",
       "      <th>2</th>\n",
       "      <td>5631500400</td>\n",
       "      <td>2015-02-25</td>\n",
       "      <td>180000.0</td>\n",
       "      <td>-1.473925</td>\n",
       "      <td>-1.447430</td>\n",
       "      <td>-1.426221</td>\n",
       "      <td>-0.123296</td>\n",
       "      <td>-0.915406</td>\n",
       "      <td>-0.087171</td>\n",
       "      <td>-0.305752</td>\n",
       "      <td>...</td>\n",
       "      <td>-1.409554</td>\n",
       "      <td>-1.229805</td>\n",
       "      <td>-0.658666</td>\n",
       "      <td>-1.293862</td>\n",
       "      <td>-0.210124</td>\n",
       "      <td>-0.933367</td>\n",
       "      <td>1.283507</td>\n",
       "      <td>-0.135652</td>\n",
       "      <td>1.070115</td>\n",
       "      <td>-0.172371</td>\n",
       "    </tr>\n",
       "    <tr>\n",
       "      <th>3</th>\n",
       "      <td>2487200875</td>\n",
       "      <td>2014-12-09</td>\n",
       "      <td>604000.0</td>\n",
       "      <td>0.676469</td>\n",
       "      <td>1.149422</td>\n",
       "      <td>-0.130547</td>\n",
       "      <td>-0.244009</td>\n",
       "      <td>-0.915406</td>\n",
       "      <td>-0.087171</td>\n",
       "      <td>-0.305752</td>\n",
       "      <td>...</td>\n",
       "      <td>-0.558823</td>\n",
       "      <td>-0.891678</td>\n",
       "      <td>1.397483</td>\n",
       "      <td>-0.204441</td>\n",
       "      <td>-0.210124</td>\n",
       "      <td>1.085135</td>\n",
       "      <td>-0.283281</td>\n",
       "      <td>-1.271787</td>\n",
       "      <td>-0.914153</td>\n",
       "      <td>-0.284515</td>\n",
       "    </tr>\n",
       "    <tr>\n",
       "      <th>4</th>\n",
       "      <td>1954400510</td>\n",
       "      <td>2015-02-18</td>\n",
       "      <td>510000.0</td>\n",
       "      <td>-0.398728</td>\n",
       "      <td>-0.149004</td>\n",
       "      <td>-0.435412</td>\n",
       "      <td>-0.169649</td>\n",
       "      <td>-0.915406</td>\n",
       "      <td>-0.087171</td>\n",
       "      <td>-0.305752</td>\n",
       "      <td>...</td>\n",
       "      <td>0.291909</td>\n",
       "      <td>-0.130892</td>\n",
       "      <td>-0.658666</td>\n",
       "      <td>0.544535</td>\n",
       "      <td>-0.210124</td>\n",
       "      <td>-0.073634</td>\n",
       "      <td>0.409541</td>\n",
       "      <td>1.199307</td>\n",
       "      <td>-0.272184</td>\n",
       "      <td>-0.192844</td>\n",
       "    </tr>\n",
       "    <tr>\n",
       "      <th>...</th>\n",
       "      <td>...</td>\n",
       "      <td>...</td>\n",
       "      <td>...</td>\n",
       "      <td>...</td>\n",
       "      <td>...</td>\n",
       "      <td>...</td>\n",
       "      <td>...</td>\n",
       "      <td>...</td>\n",
       "      <td>...</td>\n",
       "      <td>...</td>\n",
       "      <td>...</td>\n",
       "      <td>...</td>\n",
       "      <td>...</td>\n",
       "      <td>...</td>\n",
       "      <td>...</td>\n",
       "      <td>...</td>\n",
       "      <td>...</td>\n",
       "      <td>...</td>\n",
       "      <td>...</td>\n",
       "      <td>...</td>\n",
       "      <td>...</td>\n",
       "    </tr>\n",
       "    <tr>\n",
       "      <th>21608</th>\n",
       "      <td>263000018</td>\n",
       "      <td>2014-05-21</td>\n",
       "      <td>360000.0</td>\n",
       "      <td>-0.398728</td>\n",
       "      <td>0.500209</td>\n",
       "      <td>-0.598732</td>\n",
       "      <td>-0.337417</td>\n",
       "      <td>2.788374</td>\n",
       "      <td>-0.087171</td>\n",
       "      <td>-0.305752</td>\n",
       "      <td>...</td>\n",
       "      <td>0.291909</td>\n",
       "      <td>-0.312032</td>\n",
       "      <td>-0.658666</td>\n",
       "      <td>1.293512</td>\n",
       "      <td>-0.210124</td>\n",
       "      <td>0.468371</td>\n",
       "      <td>1.004935</td>\n",
       "      <td>-0.938047</td>\n",
       "      <td>-0.666119</td>\n",
       "      <td>-0.412371</td>\n",
       "    </tr>\n",
       "    <tr>\n",
       "      <th>21609</th>\n",
       "      <td>6600060120</td>\n",
       "      <td>2015-02-23</td>\n",
       "      <td>400000.0</td>\n",
       "      <td>0.676469</td>\n",
       "      <td>0.500209</td>\n",
       "      <td>0.250534</td>\n",
       "      <td>-0.224381</td>\n",
       "      <td>0.936484</td>\n",
       "      <td>-0.087171</td>\n",
       "      <td>-0.305752</td>\n",
       "      <td>...</td>\n",
       "      <td>0.291909</td>\n",
       "      <td>0.629894</td>\n",
       "      <td>-0.658666</td>\n",
       "      <td>1.463734</td>\n",
       "      <td>-0.210124</td>\n",
       "      <td>1.272034</td>\n",
       "      <td>-0.356172</td>\n",
       "      <td>-1.051660</td>\n",
       "      <td>-0.228413</td>\n",
       "      <td>-0.203942</td>\n",
       "    </tr>\n",
       "    <tr>\n",
       "      <th>21610</th>\n",
       "      <td>1523300141</td>\n",
       "      <td>2014-06-23</td>\n",
       "      <td>402101.0</td>\n",
       "      <td>-1.473925</td>\n",
       "      <td>-1.772037</td>\n",
       "      <td>-1.154021</td>\n",
       "      <td>-0.332129</td>\n",
       "      <td>0.936484</td>\n",
       "      <td>-0.087171</td>\n",
       "      <td>-0.305752</td>\n",
       "      <td>...</td>\n",
       "      <td>-0.558823</td>\n",
       "      <td>-0.927906</td>\n",
       "      <td>-0.658666</td>\n",
       "      <td>1.293512</td>\n",
       "      <td>-0.210124</td>\n",
       "      <td>1.234654</td>\n",
       "      <td>0.247882</td>\n",
       "      <td>-0.604307</td>\n",
       "      <td>-1.410220</td>\n",
       "      <td>-0.394132</td>\n",
       "    </tr>\n",
       "    <tr>\n",
       "      <th>21611</th>\n",
       "      <td>291310100</td>\n",
       "      <td>2015-01-16</td>\n",
       "      <td>400000.0</td>\n",
       "      <td>-0.398728</td>\n",
       "      <td>0.500209</td>\n",
       "      <td>-0.522516</td>\n",
       "      <td>-0.307069</td>\n",
       "      <td>0.936484</td>\n",
       "      <td>-0.087171</td>\n",
       "      <td>-0.305752</td>\n",
       "      <td>...</td>\n",
       "      <td>0.291909</td>\n",
       "      <td>-0.227500</td>\n",
       "      <td>-0.658666</td>\n",
       "      <td>1.123290</td>\n",
       "      <td>-0.210124</td>\n",
       "      <td>-0.952056</td>\n",
       "      <td>-0.184410</td>\n",
       "      <td>1.028887</td>\n",
       "      <td>-0.841202</td>\n",
       "      <td>-0.420502</td>\n",
       "    </tr>\n",
       "    <tr>\n",
       "      <th>21612</th>\n",
       "      <td>1523300157</td>\n",
       "      <td>2014-10-15</td>\n",
       "      <td>325000.0</td>\n",
       "      <td>-1.473925</td>\n",
       "      <td>-1.772037</td>\n",
       "      <td>-1.154021</td>\n",
       "      <td>-0.338744</td>\n",
       "      <td>0.936484</td>\n",
       "      <td>-0.087171</td>\n",
       "      <td>-0.305752</td>\n",
       "      <td>...</td>\n",
       "      <td>-0.558823</td>\n",
       "      <td>-0.927906</td>\n",
       "      <td>-0.658666</td>\n",
       "      <td>1.259468</td>\n",
       "      <td>-0.210124</td>\n",
       "      <td>1.234654</td>\n",
       "      <td>0.245717</td>\n",
       "      <td>-0.604307</td>\n",
       "      <td>-1.410220</td>\n",
       "      <td>-0.417938</td>\n",
       "    </tr>\n",
       "  </tbody>\n",
       "</table>\n",
       "<p>21613 rows × 21 columns</p>\n",
       "</div>"
      ],
      "text/plain": [
       "               id       date     price  bedrooms  bathrooms  sqft_living  \\\n",
       "0      7129300520 2014-10-13  221900.0 -0.398728  -1.447430    -0.979812   \n",
       "1      6414100192 2014-12-09  538000.0 -0.398728   0.175603     0.533622   \n",
       "2      5631500400 2015-02-25  180000.0 -1.473925  -1.447430    -1.426221   \n",
       "3      2487200875 2014-12-09  604000.0  0.676469   1.149422    -0.130547   \n",
       "4      1954400510 2015-02-18  510000.0 -0.398728  -0.149004    -0.435412   \n",
       "...           ...        ...       ...       ...        ...          ...   \n",
       "21608   263000018 2014-05-21  360000.0 -0.398728   0.500209    -0.598732   \n",
       "21609  6600060120 2015-02-23  400000.0  0.676469   0.500209     0.250534   \n",
       "21610  1523300141 2014-06-23  402101.0 -1.473925  -1.772037    -1.154021   \n",
       "21611   291310100 2015-01-16  400000.0 -0.398728   0.500209    -0.522516   \n",
       "21612  1523300157 2014-10-15  325000.0 -1.473925  -1.772037    -1.154021   \n",
       "\n",
       "       sqft_lot    floors  waterfront      view  ...     grade  sqft_above  \\\n",
       "0     -0.228316 -0.915406   -0.087171 -0.305752  ... -0.558823   -0.734691   \n",
       "1     -0.189881  0.936484   -0.087171 -0.305752  ... -0.558823    0.460830   \n",
       "2     -0.123296 -0.915406   -0.087171 -0.305752  ... -1.409554   -1.229805   \n",
       "3     -0.244009 -0.915406   -0.087171 -0.305752  ... -0.558823   -0.891678   \n",
       "4     -0.169649 -0.915406   -0.087171 -0.305752  ...  0.291909   -0.130892   \n",
       "...         ...       ...         ...       ...  ...       ...         ...   \n",
       "21608 -0.337417  2.788374   -0.087171 -0.305752  ...  0.291909   -0.312032   \n",
       "21609 -0.224381  0.936484   -0.087171 -0.305752  ...  0.291909    0.629894   \n",
       "21610 -0.332129  0.936484   -0.087171 -0.305752  ... -0.558823   -0.927906   \n",
       "21611 -0.307069  0.936484   -0.087171 -0.305752  ...  0.291909   -0.227500   \n",
       "21612 -0.338744  0.936484   -0.087171 -0.305752  ... -0.558823   -0.927906   \n",
       "\n",
       "       sqft_basement  yr_built  yr_renovated   zipcode       lat      long  \\\n",
       "0          -0.658666 -0.544885     -0.210124  1.870108 -0.352564 -0.306072   \n",
       "1           0.245136 -0.681063      4.746568  0.879547  1.161541 -0.746324   \n",
       "2          -0.658666 -1.293862     -0.210124 -0.933367  1.283507 -0.135652   \n",
       "3           1.397483 -0.204441     -0.210124  1.085135 -0.283281 -1.271787   \n",
       "4          -0.658666  0.544535     -0.210124 -0.073634  0.409541  1.199307   \n",
       "...              ...       ...           ...       ...       ...       ...   \n",
       "21608      -0.658666  1.293512     -0.210124  0.468371  1.004935 -0.938047   \n",
       "21609      -0.658666  1.463734     -0.210124  1.272034 -0.356172 -1.051660   \n",
       "21610      -0.658666  1.293512     -0.210124  1.234654  0.247882 -0.604307   \n",
       "21611      -0.658666  1.123290     -0.210124 -0.952056 -0.184410  1.028887   \n",
       "21612      -0.658666  1.259468     -0.210124  1.234654  0.245717 -0.604307   \n",
       "\n",
       "       sqft_living15  sqft_lot15  \n",
       "0          -0.943333   -0.260709  \n",
       "1          -0.432676   -0.187863  \n",
       "2           1.070115   -0.172371  \n",
       "3          -0.914153   -0.284515  \n",
       "4          -0.272184   -0.192844  \n",
       "...              ...         ...  \n",
       "21608      -0.666119   -0.412371  \n",
       "21609      -0.228413   -0.203942  \n",
       "21610      -1.410220   -0.394132  \n",
       "21611      -0.841202   -0.420502  \n",
       "21612      -1.410220   -0.417938  \n",
       "\n",
       "[21613 rows x 21 columns]"
      ]
     },
     "execution_count": 33,
     "metadata": {},
     "output_type": "execute_result"
    }
   ],
   "source": [
    "orders_standardized = df.copy()\n",
    "for f in features:\n",
    "    mu = df[f].mean()\n",
    "    sigma = df[f].std()\n",
    "    orders_standardized[f] = df[f].map(lambda x: (x - mu) / sigma)\n",
    "orders_standardized"
   ]
  },
  {
   "cell_type": "code",
   "execution_count": 34,
   "id": "ba9a82f0",
   "metadata": {},
   "outputs": [
    {
     "name": "stdout",
     "output_type": "stream",
     "text": [
      "                            OLS Regression Results                            \n",
      "==============================================================================\n",
      "Dep. Variable:                  price   R-squared:                       0.700\n",
      "Model:                            OLS   Adj. R-squared:                  0.699\n",
      "Method:                 Least Squares   F-statistic:                     2960.\n",
      "Date:                Fri, 08 Apr 2022   Prob (F-statistic):               0.00\n",
      "Time:                        15:37:28   Log-Likelihood:            -2.9460e+05\n",
      "No. Observations:               21613   AIC:                         5.892e+05\n",
      "Df Residuals:                   21595   BIC:                         5.894e+05\n",
      "Df Model:                          17                                         \n",
      "Covariance Type:            nonrobust                                         \n",
      "=================================================================================\n",
      "                    coef    std err          t      P>|t|      [0.025      0.975]\n",
      "---------------------------------------------------------------------------------\n",
      "Intercept      5.404e+05   1396.644    386.918      0.000    5.38e+05    5.43e+05\n",
      "bedrooms       -3.42e+04   1963.092    -17.423      0.000   -3.81e+04   -3.04e+04\n",
      "bathrooms       3.11e+04   2565.335     12.122      0.000    2.61e+04    3.61e+04\n",
      "sqft_living   -2.717e+17   2.52e+17     -1.078      0.281   -7.66e+17    2.22e+17\n",
      "sqft_lot       5270.9749   1985.816      2.654      0.008    1378.629    9163.321\n",
      "floors         3305.0726   1962.700      1.684      0.092    -541.965    7152.110\n",
      "waterfront     5.037e+04   1503.175     33.512      0.000    4.74e+04    5.33e+04\n",
      "view           4.057e+04   1640.888     24.725      0.000    3.74e+04    4.38e+04\n",
      "condition      1.712e+04   1530.936     11.185      0.000    1.41e+04    2.01e+04\n",
      "grade          1.125e+05   2535.899     44.379      0.000    1.08e+05    1.18e+05\n",
      "sqft_above      2.45e+17   2.27e+17      1.078      0.281   -2.01e+17     6.9e+17\n",
      "sqft_basement  1.309e+17   1.21e+17      1.078      0.281   -1.07e+17    3.69e+17\n",
      "yr_built      -7.696e+04   2134.446    -36.055      0.000   -8.11e+04   -7.28e+04\n",
      "yr_renovated   8010.0494   1469.290      5.452      0.000    5130.132    1.09e+04\n",
      "zipcode        -3.12e+04   1765.335    -17.671      0.000   -3.47e+04   -2.77e+04\n",
      "lat            8.352e+04   1487.585     56.148      0.000    8.06e+04    8.64e+04\n",
      "long          -3.038e+04   1854.270    -16.383      0.000    -3.4e+04   -2.67e+04\n",
      "sqft_living15  1.478e+04   2364.421      6.251      0.000    1.01e+04    1.94e+04\n",
      "sqft_lot15    -1.046e+04   2000.770     -5.228      0.000   -1.44e+04   -6539.292\n",
      "==============================================================================\n",
      "Omnibus:                    18465.063   Durbin-Watson:                   1.991\n",
      "Prob(Omnibus):                  0.000   Jarque-Bera (JB):          1891806.986\n",
      "Skew:                           3.590   Prob(JB):                         0.00\n",
      "Kurtosis:                      48.268   Cond. No.                     6.02e+14\n",
      "==============================================================================\n",
      "\n",
      "Warnings:\n",
      "[1] Standard Errors assume that the covariance matrix of the errors is correctly specified.\n",
      "[2] The smallest eigenvalue is 3.12e-25. This might indicate that there are\n",
      "strong multicollinearity problems or that the design matrix is singular.\n"
     ]
    }
   ],
   "source": [
    "model_OS = smf.ols(formula = formula, data = orders_standardized).fit()\n",
    "print(model_OS.summary())"
   ]
  },
  {
   "cell_type": "code",
   "execution_count": 35,
   "id": "50c67708",
   "metadata": {},
   "outputs": [],
   "source": [
    "features_OS = ['bedrooms', 'bathrooms',\n",
    "               'sqft_lot', 'floors', 'waterfront', 'view', 'condition', 'grade',\n",
    "               'yr_built', 'yr_renovated', 'zipcode',\n",
    "               'lat', 'long', 'sqft_living15', 'sqft_lot15']"
   ]
  },
  {
   "cell_type": "code",
   "execution_count": 36,
   "id": "3ee11c45",
   "metadata": {},
   "outputs": [
    {
     "data": {
      "text/plain": [
       "'price ~ bedrooms + bathrooms + sqft_lot + floors + waterfront + view + condition + grade + yr_built + yr_renovated + zipcode + lat + long + sqft_living15 + sqft_lot15'"
      ]
     },
     "execution_count": 36,
     "metadata": {},
     "output_type": "execute_result"
    }
   ],
   "source": [
    "formula_OS = \"price ~ \" + ' + '.join(features_OS)\n",
    "formula_OS"
   ]
  },
  {
   "cell_type": "code",
   "execution_count": 37,
   "id": "46becc64",
   "metadata": {},
   "outputs": [
    {
     "name": "stdout",
     "output_type": "stream",
     "text": [
      "                            OLS Regression Results                            \n",
      "==============================================================================\n",
      "Dep. Variable:                  price   R-squared:                       0.663\n",
      "Model:                            OLS   Adj. R-squared:                  0.663\n",
      "Method:                 Least Squares   F-statistic:                     2831.\n",
      "Date:                Fri, 08 Apr 2022   Prob (F-statistic):               0.00\n",
      "Time:                        15:37:29   Log-Likelihood:            -2.9586e+05\n",
      "No. Observations:               21613   AIC:                         5.917e+05\n",
      "Df Residuals:                   21597   BIC:                         5.919e+05\n",
      "Df Model:                          15                                         \n",
      "Covariance Type:            nonrobust                                         \n",
      "=================================================================================\n",
      "                    coef    std err          t      P>|t|      [0.025      0.975]\n",
      "---------------------------------------------------------------------------------\n",
      "Intercept      5.401e+05   1450.538    372.336      0.000    5.37e+05    5.43e+05\n",
      "bedrooms      -2743.0514   1752.459     -1.565      0.118   -6178.001     691.898\n",
      "bathrooms      8.194e+04   2381.176     34.410      0.000    7.73e+04    8.66e+04\n",
      "sqft_lot       1.122e+04   2099.257      5.346      0.000    7108.951    1.53e+04\n",
      "floors         7258.1857   1844.369      3.935      0.000    3643.087    1.09e+04\n",
      "waterfront     5.344e+04   1589.538     33.617      0.000    5.03e+04    5.66e+04\n",
      "view           4.347e+04   1711.123     25.407      0.000    4.01e+04    4.68e+04\n",
      "condition      1.723e+04   1616.038     10.663      0.000    1.41e+04    2.04e+04\n",
      "grade          1.625e+05   2465.667     65.925      0.000    1.58e+05    1.67e+05\n",
      "yr_built      -9.444e+04   2232.728    -42.297      0.000   -9.88e+04   -9.01e+04\n",
      "yr_renovated   8200.7556   1555.862      5.271      0.000    5151.151    1.13e+04\n",
      "zipcode       -2.791e+04   1868.237    -14.938      0.000   -3.16e+04   -2.42e+04\n",
      "lat            8.003e+04   1564.773     51.146      0.000     7.7e+04    8.31e+04\n",
      "long          -2.357e+04   1928.075    -12.227      0.000   -2.74e+04   -1.98e+04\n",
      "sqft_living15  6.251e+04   2293.057     27.262      0.000     5.8e+04     6.7e+04\n",
      "sqft_lot15    -4906.7469   2116.697     -2.318      0.020   -9055.630    -757.864\n",
      "==============================================================================\n",
      "Omnibus:                    21338.401   Durbin-Watson:                   1.984\n",
      "Prob(Omnibus):                  0.000   Jarque-Bera (JB):          3604333.778\n",
      "Skew:                           4.421   Prob(JB):                         0.00\n",
      "Kurtosis:                      65.644   Cond. No.                         4.12\n",
      "==============================================================================\n",
      "\n",
      "Warnings:\n",
      "[1] Standard Errors assume that the covariance matrix of the errors is correctly specified.\n"
     ]
    }
   ],
   "source": [
    "model_OS = smf.ols(formula = formula_OS, data = orders_standardized).fit()\n",
    "print(model_OS.summary())"
   ]
  },
  {
   "cell_type": "code",
   "execution_count": null,
   "id": "2e12d2cc",
   "metadata": {},
   "outputs": [],
   "source": []
  },
  {
   "cell_type": "code",
   "execution_count": null,
   "id": "576392e1",
   "metadata": {},
   "outputs": [],
   "source": []
  },
  {
   "cell_type": "markdown",
   "id": "f49c0555",
   "metadata": {},
   "source": [
    "# Multivatiable Linear Regression model"
   ]
  },
  {
   "cell_type": "code",
   "execution_count": 38,
   "id": "c2da5767",
   "metadata": {},
   "outputs": [
    {
     "name": "stdout",
     "output_type": "stream",
     "text": [
      "                            OLS Regression Results                            \n",
      "==============================================================================\n",
      "Dep. Variable:                  price   R-squared:                       0.700\n",
      "Model:                            OLS   Adj. R-squared:                  0.700\n",
      "Method:                 Least Squares   F-statistic:                     2960.\n",
      "Date:                Fri, 08 Apr 2022   Prob (F-statistic):               0.00\n",
      "Time:                        15:37:29   Log-Likelihood:            -2.9460e+05\n",
      "No. Observations:               21613   AIC:                         5.892e+05\n",
      "Df Residuals:                   21595   BIC:                         5.894e+05\n",
      "Df Model:                          17                                         \n",
      "Covariance Type:            nonrobust                                         \n",
      "=================================================================================\n",
      "                    coef    std err          t      P>|t|      [0.025      0.975]\n",
      "---------------------------------------------------------------------------------\n",
      "Intercept       6.69e+06   2.93e+06      2.282      0.022    9.44e+05    1.24e+07\n",
      "bedrooms      -3.577e+04   1891.843    -18.906      0.000   -3.95e+04   -3.21e+04\n",
      "bathrooms      4.114e+04   3253.678     12.645      0.000    3.48e+04    4.75e+04\n",
      "sqft_living     110.4421      2.270     48.661      0.000     105.994     114.891\n",
      "sqft_lot          0.1286      0.048      2.683      0.007       0.035       0.223\n",
      "floors         6689.5501   3595.859      1.860      0.063    -358.599    1.37e+04\n",
      "waterfront      5.83e+05   1.74e+04     33.580      0.000    5.49e+05    6.17e+05\n",
      "view           5.287e+04   2140.055     24.705      0.000    4.87e+04    5.71e+04\n",
      "condition      2.639e+04   2351.461     11.221      0.000    2.18e+04     3.1e+04\n",
      "grade          9.589e+04   2152.789     44.542      0.000    9.17e+04       1e+05\n",
      "sqft_above       70.7860      2.253     31.413      0.000      66.369      75.203\n",
      "sqft_basement    39.6584      2.647     14.985      0.000      34.471      44.846\n",
      "yr_built      -2620.2232     72.659    -36.062      0.000   -2762.640   -2477.806\n",
      "yr_renovated     19.8126      3.656      5.420      0.000      12.647      26.978\n",
      "zipcode        -582.4199     32.986    -17.657      0.000    -647.074    -517.765\n",
      "lat            6.027e+05   1.07e+04     56.149      0.000    5.82e+05    6.24e+05\n",
      "long          -2.147e+05   1.31e+04    -16.349      0.000    -2.4e+05   -1.89e+05\n",
      "sqft_living15    21.6814      3.448      6.289      0.000      14.924      28.439\n",
      "sqft_lot15       -0.3826      0.073     -5.222      0.000      -0.526      -0.239\n",
      "==============================================================================\n",
      "Omnibus:                    18384.201   Durbin-Watson:                   1.990\n",
      "Prob(Omnibus):                  0.000   Jarque-Bera (JB):          1868224.491\n",
      "Skew:                           3.566   Prob(JB):                         0.00\n",
      "Kurtosis:                      47.985   Cond. No.                     2.22e+16\n",
      "==============================================================================\n",
      "\n",
      "Warnings:\n",
      "[1] Standard Errors assume that the covariance matrix of the errors is correctly specified.\n",
      "[2] The smallest eigenvalue is 4.46e-19. This might indicate that there are\n",
      "strong multicollinearity problems or that the design matrix is singular.\n"
     ]
    }
   ],
   "source": [
    "model_A = smf.ols(formula = formula, data = df).fit()\n",
    "print(model_A.summary())"
   ]
  },
  {
   "cell_type": "code",
   "execution_count": 39,
   "id": "addba62c",
   "metadata": {},
   "outputs": [
    {
     "data": {
      "image/png": "[encoded data removed]",
      "text/plain": [
       "<Figure size 432x288 with 1 Axes>"
      ]
     },
     "metadata": {
      "needs_background": "light"
     },
     "output_type": "display_data"
    }
   ],
   "source": [
    "sns.regplot(x='price', y='floors', data=df);"
   ]
  },
  {
   "cell_type": "markdown",
   "id": "862661a7",
   "metadata": {},
   "source": [
    "Removing floors from the analysis, as p>0.05"
   ]
  },
  {
   "cell_type": "code",
   "execution_count": 40,
   "id": "6098ccdc",
   "metadata": {},
   "outputs": [],
   "source": [
    "features_B = ['bedrooms', 'bathrooms', 'sqft_living',\n",
    "       'sqft_lot', 'waterfront', 'view', 'condition', 'grade',\n",
    "       'sqft_above', 'sqft_basement', 'yr_built', 'yr_renovated', 'zipcode',\n",
    "       'lat', 'long', 'sqft_living15', 'sqft_lot15']"
   ]
  },
  {
   "cell_type": "code",
   "execution_count": 41,
   "id": "a5f303fa",
   "metadata": {},
   "outputs": [
    {
     "data": {
      "text/plain": [
       "'price ~ bedrooms + bathrooms + sqft_living + sqft_lot + waterfront + view + condition + grade + sqft_above + sqft_basement + yr_built + yr_renovated + zipcode + lat + long + sqft_living15 + sqft_lot15'"
      ]
     },
     "execution_count": 41,
     "metadata": {},
     "output_type": "execute_result"
    }
   ],
   "source": [
    "formula_B = \"price ~ \" + ' + '.join(features_B)\n",
    "formula_B"
   ]
  },
  {
   "cell_type": "code",
   "execution_count": 42,
   "id": "aeedf081",
   "metadata": {},
   "outputs": [
    {
     "name": "stdout",
     "output_type": "stream",
     "text": [
      "                            OLS Regression Results                            \n",
      "==============================================================================\n",
      "Dep. Variable:                  price   R-squared:                       0.700\n",
      "Model:                            OLS   Adj. R-squared:                  0.699\n",
      "Method:                 Least Squares   F-statistic:                     3145.\n",
      "Date:                Fri, 08 Apr 2022   Prob (F-statistic):               0.00\n",
      "Time:                        15:37:34   Log-Likelihood:            -2.9460e+05\n",
      "No. Observations:               21613   AIC:                         5.892e+05\n",
      "Df Residuals:                   21596   BIC:                         5.894e+05\n",
      "Df Model:                          16                                         \n",
      "Covariance Type:            nonrobust                                         \n",
      "=================================================================================\n",
      "                    coef    std err          t      P>|t|      [0.025      0.975]\n",
      "---------------------------------------------------------------------------------\n",
      "Intercept      5.741e+06   2.89e+06      1.989      0.047    8.28e+04    1.14e+07\n",
      "bedrooms      -3.586e+04   1891.248    -18.962      0.000   -3.96e+04   -3.22e+04\n",
      "bathrooms      4.272e+04   3141.958     13.596      0.000    3.66e+04    4.89e+04\n",
      "sqft_living     109.9744      2.256     48.752      0.000     105.553     114.396\n",
      "sqft_lot          0.1266      0.048      2.643      0.008       0.033       0.221\n",
      "waterfront     5.831e+05   1.74e+04     33.585      0.000    5.49e+05    6.17e+05\n",
      "view           5.297e+04   2139.565     24.756      0.000    4.88e+04    5.72e+04\n",
      "condition      2.614e+04   2347.831     11.133      0.000    2.15e+04    3.07e+04\n",
      "grade          9.624e+04   2144.551     44.878      0.000     9.2e+04       1e+05\n",
      "sqft_above       72.3471      2.091     34.591      0.000      68.248      76.447\n",
      "sqft_basement    37.6299      2.412     15.604      0.000      32.903      42.357\n",
      "yr_built      -2590.7927     70.920    -36.531      0.000   -2729.801   -2451.784\n",
      "yr_renovated     20.1729      3.651      5.526      0.000      13.017      27.328\n",
      "zipcode        -576.6895     32.844    -17.559      0.000    -641.065    -512.314\n",
      "lat            6.044e+05   1.07e+04     56.494      0.000    5.83e+05    6.25e+05\n",
      "long          -2.168e+05   1.31e+04    -16.568      0.000   -2.42e+05   -1.91e+05\n",
      "sqft_living15    20.9673      3.426      6.119      0.000      14.251      27.683\n",
      "sqft_lot15       -0.3874      0.073     -5.291      0.000      -0.531      -0.244\n",
      "==============================================================================\n",
      "Omnibus:                    18333.238   Durbin-Watson:                   1.990\n",
      "Prob(Omnibus):                  0.000   Jarque-Bera (JB):          1848729.005\n",
      "Skew:                           3.552   Prob(JB):                         0.00\n",
      "Kurtosis:                      47.749   Cond. No.                     2.21e+16\n",
      "==============================================================================\n",
      "\n",
      "Warnings:\n",
      "[1] Standard Errors assume that the covariance matrix of the errors is correctly specified.\n",
      "[2] The smallest eigenvalue is 4.48e-19. This might indicate that there are\n",
      "strong multicollinearity problems or that the design matrix is singular.\n"
     ]
    }
   ],
   "source": [
    "model_B = smf.ols(formula = formula_B, data = df).fit()\n",
    "print(model_B.summary())"
   ]
  },
  {
   "cell_type": "code",
   "execution_count": 43,
   "id": "2e3d0dbb",
   "metadata": {},
   "outputs": [
    {
     "data": {
      "image/png": "[encoded data removed]",
      "text/plain": [
       "<Figure size 432x288 with 1 Axes>"
      ]
     },
     "metadata": {
      "needs_background": "light"
     },
     "output_type": "display_data"
    }
   ],
   "source": [
    "model_B.params[1:].sort_values().plot(kind='bar');"
   ]
  },
  {
   "cell_type": "code",
   "execution_count": 44,
   "id": "d6586ac5",
   "metadata": {},
   "outputs": [],
   "source": [
    "predicted_review_score = model_B.predict(df[features_B])"
   ]
  },
  {
   "cell_type": "code",
   "execution_count": 45,
   "id": "b7a59106",
   "metadata": {},
   "outputs": [],
   "source": [
    "residuals = predicted_review_score - df.price"
   ]
  },
  {
   "cell_type": "code",
   "execution_count": 46,
   "id": "d1081566",
   "metadata": {},
   "outputs": [
    {
     "data": {
      "text/plain": [
       "201180.02121695896"
      ]
     },
     "execution_count": 46,
     "metadata": {},
     "output_type": "execute_result"
    }
   ],
   "source": [
    "RMSE = (residuals.map(lambda x: x**2).sum() / len(residuals))**0.5\n",
    "RMSE"
   ]
  },
  {
   "cell_type": "code",
   "execution_count": null,
   "id": "7e9ccc51",
   "metadata": {},
   "outputs": [],
   "source": []
  }
 ],
 "metadata": {
  "kernelspec": {
   "display_name": "Python 3 (ipykernel)",
   "language": "python",
   "name": "python3"
  },
  "language_info": {
   "codemirror_mode": {
    "name": "ipython",
    "version": 3
   },
   "file_extension": ".py",
   "mimetype": "text/x-python",
   "name": "python",
   "nbconvert_exporter": "python",
   "pygments_lexer": "ipython3",
   "version": "3.8.12"
  },
  "toc": {
   "base_numbering": 1,
   "nav_menu": {},
   "number_sections": true,
   "sideBar": true,
   "skip_h1_title": false,
   "title_cell": "Table of Contents",
   "title_sidebar": "Contents",
   "toc_cell": false,
   "toc_position": {},
   "toc_section_display": true,
   "toc_window_display": false
  }
 },
 "nbformat": 4,
 "nbformat_minor": 5
}
